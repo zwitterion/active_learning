{
 "cells": [
  {
   "cell_type": "code",
   "execution_count": 2,
   "metadata": {},
   "outputs": [],
   "source": [
    "%matplotlib inline\n",
    "\n",
    "import numpy as np\n",
    "import pandas as pd\n",
    "import time\n",
    "\n",
    "import matplotlib\n",
    "import matplotlib.pyplot as plt"
   ]
  },
  {
   "cell_type": "code",
   "execution_count": 3,
   "metadata": {},
   "outputs": [],
   "source": [
    "df = pd.read_csv(\"data/maintenance.csv\", header=[0])"
   ]
  },
  {
   "cell_type": "code",
   "execution_count": 4,
   "metadata": {},
   "outputs": [],
   "source": [
    "#\n",
    "# cleanup bad data\n",
    "#\n",
    "\n",
    "df.fillna(0, inplace=True)\n",
    "df[\"136088202.3\"].replace(\"mean\", 0, inplace=True)\n",
    "df[df.columns[2:]] = df[df.columns[2:]].applymap(pd.to_numeric)"
   ]
  },
  {
   "cell_type": "code",
   "execution_count": 5,
   "metadata": {},
   "outputs": [],
   "source": [
    "# standarize numeric columns\n",
    "num_columns = df.columns[2:]\n",
    "\n",
    "standarized  =  df[num_columns].sub(df[num_columns].mean(axis=0), axis=1).div(df[num_columns].std(axis=0)+1e-20, axis=1)\n",
    "normalized01 = df[num_columns].sub(df[num_columns].min(axis=0), axis=1).div(df[num_columns].max(axis=0)-df[num_columns].min(axis=0)+1e-20, axis=1)\n",
    "df[num_columns] = normalized01\n",
    "\n"
   ]
  },
  {
   "cell_type": "code",
   "execution_count": null,
   "metadata": {
    "scrolled": true
   },
   "outputs": [],
   "source": [
    "        "
   ]
  },
  {
   "cell_type": "code",
   "execution_count": 6,
   "metadata": {},
   "outputs": [
    {
     "data": {
      "text/plain": [
       "Index(['136088194', '136088202', '136088394', '136088802', '136089546',\n",
       "       '136110468', '136216674', '136222202', '136222210', '136222234',\n",
       "       ...\n",
       "       '136225010.4', '136675426.4', '136675626.4', '136676578.4',\n",
       "       '136676650.4', '136676666.4', '136676682.4', '136676698.4',\n",
       "       '136676714.4', '136676754.4'],\n",
       "      dtype='object', length=130)"
      ]
     },
     "execution_count": 6,
     "metadata": {},
     "output_type": "execute_result"
    }
   ],
   "source": [
    "#num_columns = df.columns[2:2+26]\n",
    "num_columns"
   ]
  },
  {
   "cell_type": "code",
   "execution_count": 7,
   "metadata": {},
   "outputs": [
    {
     "name": "stdout",
     "output_type": "stream",
     "text": [
      "extending X_test to macth y_test\n"
     ]
    },
    {
     "data": {
      "text/plain": [
       "(300, 300)"
      ]
     },
     "execution_count": 7,
     "metadata": {},
     "output_type": "execute_result"
    }
   ],
   "source": [
    "df_y_train = pd.read_csv(\"data/train_label.csv\", header=[0])\n",
    "df_y_test = pd.read_csv(\"data/test_label.csv\", header=[0])\n",
    "\n",
    "y_train = df_y_train[\"label\"].values\n",
    "# remove fiest NaN element - TImeSeriesGenerator() will assemble the righ sequences for us\n",
    "y_train = np.delete(y_train,0)\n",
    "X_train = df[num_columns].loc[0:len(y_train)-1].values\n",
    "\n",
    "X_test = df[num_columns].loc[len(df_y_train):].values\n",
    "y_test = df_y_test[\"label\"].apply(lambda x: 0 if x < 0.5 else 1).values\n",
    "\n",
    "while len(X_test) < len(y_test):\n",
    "    print(\"extending X_test to macth y_test\")\n",
    "    X_test = np.vstack((X_test, X_test[-1]))\n",
    "\n",
    "len(X_train), len(y_train)\n",
    "len(X_test), len(y_test)\n"
   ]
  },
  {
   "cell_type": "code",
   "execution_count": 8,
   "metadata": {},
   "outputs": [
    {
     "name": "stderr",
     "output_type": "stream",
     "text": [
      "Using TensorFlow backend.\n"
     ]
    }
   ],
   "source": [
    "from sklearn import preprocessing\n",
    "from sklearn.metrics import roc_curve, auc, roc_auc_score, confusion_matrix\n",
    "\n",
    "from keras.datasets import mnist\n",
    "from autokeras.image.image_supervised import ImageClassifier\n",
    "from autokeras.utils import pickle_from_file\n",
    "from keras.models import Sequential\n",
    "from keras.layers import Dense, Reshape, Bidirectional\n",
    "from keras.layers import Dropout, TimeDistributed\n",
    "from keras.layers import LSTM, ConvLSTM2D, BatchNormalization, Flatten\n",
    "from keras.preprocessing.sequence import TimeseriesGenerator\n",
    "from keras.callbacks import EarlyStopping\n",
    "\n",
    "from keras_tqdm import TQDMNotebookCallback\n"
   ]
  },
  {
   "cell_type": "code",
   "execution_count": 9,
   "metadata": {},
   "outputs": [],
   "source": [
    "# parameters \n",
    "\n",
    "lag = 3 # days\n"
   ]
  },
  {
   "cell_type": "code",
   "execution_count": 21,
   "metadata": {},
   "outputs": [
    {
     "name": "stdout",
     "output_type": "stream",
     "text": [
      "(4, 45, 41, 200, 30)\n"
     ]
    }
   ],
   "source": [
    "def parameter_generator():\n",
    "    for lag in range(4,5, 1): # 4\n",
    "        for batch_size in range(45,46,10):\n",
    "            for lstm_cells in range(41,42,2): # (21, 22, 5)\n",
    "                for epochs in range(200, 250, 100):\n",
    "                    for steps_per_epoch in range(30, 40, 20):\n",
    "                        yield (lag, batch_size, lstm_cells, epochs, steps_per_epoch)\n",
    "            \n",
    "for p in parameter_generator():\n",
    "    print(p)"
   ]
  },
  {
   "cell_type": "code",
   "execution_count": 19,
   "metadata": {},
   "outputs": [
    {
     "name": "stdout",
     "output_type": "stream",
     "text": [
      "_________________________________________________________________\n",
      "Layer (type)                 Output Shape              Param #   \n",
      "=================================================================\n",
      "lstm_3 (LSTM)                (None, 4, 8)              3488      \n",
      "_________________________________________________________________\n",
      "time_distributed_4 (TimeDist (None, 4, 1)              9         \n",
      "=================================================================\n",
      "Total params: 3,497\n",
      "Trainable params: 3,497\n",
      "Non-trainable params: 0\n",
      "_________________________________________________________________\n"
     ]
    }
   ],
   "source": [
    "def get_model0(lstm_cells, lag, n_features, batch_size):\n",
    "\n",
    "    model = Sequential()\n",
    "    model.add(LSTM(lstm_cells, activation='relu', return_sequences=True, input_shape=(lag, n_features)))\n",
    "    #model.add(Dense(10, activation='relu'))\n",
    "    model.add(TimeDistributed(Dense(1, activation='sigmoid')))\n",
    "    #model.compile(optimizer='adam', loss='mse')\n",
    "    model.compile(optimizer='rmsprop', loss='binary_crossentropy', metrics=['accuracy'])\n",
    "    return model\n",
    "\n",
    "\n",
    "def get_model3(filters, lag, n_features, batch_size):\n",
    "\n",
    "    input_shape = (lag, n_features, 1)\n",
    "    model = Sequential()\n",
    "    \n",
    "    \n",
    "    model.add(Reshape(input_shape + (1, ), input_shape=input_shape))\n",
    "\n",
    "#     model.add(Bidirectional(ConvLSTM2D(filters=filters, \n",
    "#                          kernel_size=(3, 3),\n",
    "#                          padding='same',\n",
    "#                          return_sequences=True,\n",
    "#                          input_shape=input_shape)))\n",
    "\n",
    "#     model.add(ConvLSTM2D(filters=filters, \n",
    "#                      kernel_size=(5, 5),\n",
    "#                      padding='same',\n",
    "#                      return_sequences=True,\n",
    "#                      activation=\"linear\",\n",
    "#                      use_bias = True,    \n",
    "#                      input_shape=input_shape))\n",
    "#     model.add(BatchNormalization())\n",
    "    model.add(Bidirectional(ConvLSTM2D(filters=filters, \n",
    "                     kernel_size=(3, 3),\n",
    "                     padding='same',\n",
    "                     return_sequences=True,\n",
    "                     activation=\"linear\",\n",
    "                     use_bias = True,    \n",
    "                     input_shape=input_shape)))\n",
    "\n",
    "    model.add(BatchNormalization())\n",
    "\n",
    "    model.add(TimeDistributed(Dense(100, activation=\"relu\")))\n",
    "    model.add(Flatten())\n",
    "    #odel.add(Dropout(0.5))\n",
    "    model.add(Dense(1, activation='sigmoid'))\n",
    "    \n",
    "    model.compile(optimizer='adam', loss='binary_crossentropy', metrics=['accuracy']) # rmsprop - mse\n",
    "    return model\n",
    "\n",
    "\n",
    "#get_model3(8, 4, 100, 10).summary()\n",
    "get_model0(8, 4, 100, 10).summary()"
   ]
  },
  {
   "cell_type": "code",
   "execution_count": 12,
   "metadata": {},
   "outputs": [],
   "source": [
    "# X = [10,20,30,40,50,60,70,80,90,100]\n",
    "# y = [1,2,3,4,5,6,7,8,9,10]\n",
    "\n",
    "\n",
    "# gen = TimeseriesGenerator(X,y, length=2, batch_size=1)\n",
    "\n",
    "# for x in gen:\n",
    "#     print(x)\n",
    "    \n",
    "#for x in train_generator:\n",
    "#    print(x[0].shape)"
   ]
  },
  {
   "cell_type": "code",
   "execution_count": 22,
   "metadata": {},
   "outputs": [
    {
     "name": "stdout",
     "output_type": "stream",
     "text": [
      "Total samples: 683 \n",
      "Num train samples: 512 \n",
      "Num test samples: 171\n",
      "Features: 130\n",
      "_________________________________________________________________\n",
      "Layer (type)                 Output Shape              Param #   \n",
      "=================================================================\n",
      "reshape_5 (Reshape)          (None, 4, 130, 1, 1)      0         \n",
      "_________________________________________________________________\n",
      "bidirectional_5 (Bidirection (None, 4, 130, 1, 82)     124312    \n",
      "_________________________________________________________________\n",
      "batch_normalization_5 (Batch (None, 4, 130, 1, 82)     328       \n",
      "_________________________________________________________________\n",
      "time_distributed_6 (TimeDist (None, 4, 130, 1, 100)    8300      \n",
      "_________________________________________________________________\n",
      "flatten_5 (Flatten)          (None, 52000)             0         \n",
      "_________________________________________________________________\n",
      "dense_11 (Dense)             (None, 1)                 52001     \n",
      "=================================================================\n",
      "Total params: 184,941\n",
      "Trainable params: 184,777\n",
      "Non-trainable params: 164\n",
      "_________________________________________________________________\n",
      "None\n"
     ]
    },
    {
     "data": {
      "application/vnd.jupyter.widget-view+json": {
       "model_id": "916d7f284156483fa1de2b51cbdc56a6",
       "version_major": 2,
       "version_minor": 0
      },
      "text/plain": [
       "HBox(children=(IntProgress(value=0, description='Training', max=200, style=ProgressStyle(description_width='in…"
      ]
     },
     "metadata": {},
     "output_type": "display_data"
    },
    {
     "data": {
      "application/vnd.jupyter.widget-view+json": {
       "model_id": "",
       "version_major": 2,
       "version_minor": 0
      },
      "text/plain": [
       "HBox(children=(IntProgress(value=0, description='Epoch 0', max=30, style=ProgressStyle(description_width='init…"
      ]
     },
     "metadata": {},
     "output_type": "display_data"
    },
    {
     "data": {
      "application/vnd.jupyter.widget-view+json": {
       "model_id": "",
       "version_major": 2,
       "version_minor": 0
      },
      "text/plain": [
       "HBox(children=(IntProgress(value=0, description='Epoch 1', max=30, style=ProgressStyle(description_width='init…"
      ]
     },
     "metadata": {},
     "output_type": "display_data"
    },
    {
     "data": {
      "application/vnd.jupyter.widget-view+json": {
       "model_id": "",
       "version_major": 2,
       "version_minor": 0
      },
      "text/plain": [
       "HBox(children=(IntProgress(value=0, description='Epoch 2', max=30, style=ProgressStyle(description_width='init…"
      ]
     },
     "metadata": {},
     "output_type": "display_data"
    },
    {
     "data": {
      "application/vnd.jupyter.widget-view+json": {
       "model_id": "",
       "version_major": 2,
       "version_minor": 0
      },
      "text/plain": [
       "HBox(children=(IntProgress(value=0, description='Epoch 3', max=30, style=ProgressStyle(description_width='init…"
      ]
     },
     "metadata": {},
     "output_type": "display_data"
    },
    {
     "data": {
      "application/vnd.jupyter.widget-view+json": {
       "model_id": "",
       "version_major": 2,
       "version_minor": 0
      },
      "text/plain": [
       "HBox(children=(IntProgress(value=0, description='Epoch 4', max=30, style=ProgressStyle(description_width='init…"
      ]
     },
     "metadata": {},
     "output_type": "display_data"
    },
    {
     "data": {
      "application/vnd.jupyter.widget-view+json": {
       "model_id": "",
       "version_major": 2,
       "version_minor": 0
      },
      "text/plain": [
       "HBox(children=(IntProgress(value=0, description='Epoch 5', max=30, style=ProgressStyle(description_width='init…"
      ]
     },
     "metadata": {},
     "output_type": "display_data"
    },
    {
     "data": {
      "application/vnd.jupyter.widget-view+json": {
       "model_id": "",
       "version_major": 2,
       "version_minor": 0
      },
      "text/plain": [
       "HBox(children=(IntProgress(value=0, description='Epoch 6', max=30, style=ProgressStyle(description_width='init…"
      ]
     },
     "metadata": {},
     "output_type": "display_data"
    },
    {
     "data": {
      "application/vnd.jupyter.widget-view+json": {
       "model_id": "",
       "version_major": 2,
       "version_minor": 0
      },
      "text/plain": [
       "HBox(children=(IntProgress(value=0, description='Epoch 7', max=30, style=ProgressStyle(description_width='init…"
      ]
     },
     "metadata": {},
     "output_type": "display_data"
    },
    {
     "data": {
      "application/vnd.jupyter.widget-view+json": {
       "model_id": "",
       "version_major": 2,
       "version_minor": 0
      },
      "text/plain": [
       "HBox(children=(IntProgress(value=0, description='Epoch 8', max=30, style=ProgressStyle(description_width='init…"
      ]
     },
     "metadata": {},
     "output_type": "display_data"
    },
    {
     "data": {
      "application/vnd.jupyter.widget-view+json": {
       "model_id": "",
       "version_major": 2,
       "version_minor": 0
      },
      "text/plain": [
       "HBox(children=(IntProgress(value=0, description='Epoch 9', max=30, style=ProgressStyle(description_width='init…"
      ]
     },
     "metadata": {},
     "output_type": "display_data"
    },
    {
     "data": {
      "application/vnd.jupyter.widget-view+json": {
       "model_id": "",
       "version_major": 2,
       "version_minor": 0
      },
      "text/plain": [
       "HBox(children=(IntProgress(value=0, description='Epoch 10', max=30, style=ProgressStyle(description_width='ini…"
      ]
     },
     "metadata": {},
     "output_type": "display_data"
    },
    {
     "data": {
      "application/vnd.jupyter.widget-view+json": {
       "model_id": "",
       "version_major": 2,
       "version_minor": 0
      },
      "text/plain": [
       "HBox(children=(IntProgress(value=0, description='Epoch 11', max=30, style=ProgressStyle(description_width='ini…"
      ]
     },
     "metadata": {},
     "output_type": "display_data"
    },
    {
     "data": {
      "application/vnd.jupyter.widget-view+json": {
       "model_id": "",
       "version_major": 2,
       "version_minor": 0
      },
      "text/plain": [
       "HBox(children=(IntProgress(value=0, description='Epoch 12', max=30, style=ProgressStyle(description_width='ini…"
      ]
     },
     "metadata": {},
     "output_type": "display_data"
    },
    {
     "data": {
      "application/vnd.jupyter.widget-view+json": {
       "model_id": "",
       "version_major": 2,
       "version_minor": 0
      },
      "text/plain": [
       "HBox(children=(IntProgress(value=0, description='Epoch 13', max=30, style=ProgressStyle(description_width='ini…"
      ]
     },
     "metadata": {},
     "output_type": "display_data"
    },
    {
     "data": {
      "application/vnd.jupyter.widget-view+json": {
       "model_id": "",
       "version_major": 2,
       "version_minor": 0
      },
      "text/plain": [
       "HBox(children=(IntProgress(value=0, description='Epoch 14', max=30, style=ProgressStyle(description_width='ini…"
      ]
     },
     "metadata": {},
     "output_type": "display_data"
    },
    {
     "data": {
      "application/vnd.jupyter.widget-view+json": {
       "model_id": "",
       "version_major": 2,
       "version_minor": 0
      },
      "text/plain": [
       "HBox(children=(IntProgress(value=0, description='Epoch 15', max=30, style=ProgressStyle(description_width='ini…"
      ]
     },
     "metadata": {},
     "output_type": "display_data"
    },
    {
     "data": {
      "application/vnd.jupyter.widget-view+json": {
       "model_id": "",
       "version_major": 2,
       "version_minor": 0
      },
      "text/plain": [
       "HBox(children=(IntProgress(value=0, description='Epoch 16', max=30, style=ProgressStyle(description_width='ini…"
      ]
     },
     "metadata": {},
     "output_type": "display_data"
    },
    {
     "data": {
      "application/vnd.jupyter.widget-view+json": {
       "model_id": "",
       "version_major": 2,
       "version_minor": 0
      },
      "text/plain": [
       "HBox(children=(IntProgress(value=0, description='Epoch 17', max=30, style=ProgressStyle(description_width='ini…"
      ]
     },
     "metadata": {},
     "output_type": "display_data"
    },
    {
     "data": {
      "application/vnd.jupyter.widget-view+json": {
       "model_id": "",
       "version_major": 2,
       "version_minor": 0
      },
      "text/plain": [
       "HBox(children=(IntProgress(value=0, description='Epoch 18', max=30, style=ProgressStyle(description_width='ini…"
      ]
     },
     "metadata": {},
     "output_type": "display_data"
    },
    {
     "data": {
      "application/vnd.jupyter.widget-view+json": {
       "model_id": "",
       "version_major": 2,
       "version_minor": 0
      },
      "text/plain": [
       "HBox(children=(IntProgress(value=0, description='Epoch 19', max=30, style=ProgressStyle(description_width='ini…"
      ]
     },
     "metadata": {},
     "output_type": "display_data"
    },
    {
     "data": {
      "application/vnd.jupyter.widget-view+json": {
       "model_id": "",
       "version_major": 2,
       "version_minor": 0
      },
      "text/plain": [
       "HBox(children=(IntProgress(value=0, description='Epoch 20', max=30, style=ProgressStyle(description_width='ini…"
      ]
     },
     "metadata": {},
     "output_type": "display_data"
    },
    {
     "data": {
      "application/vnd.jupyter.widget-view+json": {
       "model_id": "",
       "version_major": 2,
       "version_minor": 0
      },
      "text/plain": [
       "HBox(children=(IntProgress(value=0, description='Epoch 21', max=30, style=ProgressStyle(description_width='ini…"
      ]
     },
     "metadata": {},
     "output_type": "display_data"
    },
    {
     "data": {
      "application/vnd.jupyter.widget-view+json": {
       "model_id": "",
       "version_major": 2,
       "version_minor": 0
      },
      "text/plain": [
       "HBox(children=(IntProgress(value=0, description='Epoch 22', max=30, style=ProgressStyle(description_width='ini…"
      ]
     },
     "metadata": {},
     "output_type": "display_data"
    },
    {
     "data": {
      "application/vnd.jupyter.widget-view+json": {
       "model_id": "",
       "version_major": 2,
       "version_minor": 0
      },
      "text/plain": [
       "HBox(children=(IntProgress(value=0, description='Epoch 23', max=30, style=ProgressStyle(description_width='ini…"
      ]
     },
     "metadata": {},
     "output_type": "display_data"
    },
    {
     "data": {
      "application/vnd.jupyter.widget-view+json": {
       "model_id": "",
       "version_major": 2,
       "version_minor": 0
      },
      "text/plain": [
       "HBox(children=(IntProgress(value=0, description='Epoch 24', max=30, style=ProgressStyle(description_width='ini…"
      ]
     },
     "metadata": {},
     "output_type": "display_data"
    },
    {
     "data": {
      "application/vnd.jupyter.widget-view+json": {
       "model_id": "",
       "version_major": 2,
       "version_minor": 0
      },
      "text/plain": [
       "HBox(children=(IntProgress(value=0, description='Epoch 25', max=30, style=ProgressStyle(description_width='ini…"
      ]
     },
     "metadata": {},
     "output_type": "display_data"
    },
    {
     "data": {
      "application/vnd.jupyter.widget-view+json": {
       "model_id": "",
       "version_major": 2,
       "version_minor": 0
      },
      "text/plain": [
       "HBox(children=(IntProgress(value=0, description='Epoch 26', max=30, style=ProgressStyle(description_width='ini…"
      ]
     },
     "metadata": {},
     "output_type": "display_data"
    },
    {
     "data": {
      "application/vnd.jupyter.widget-view+json": {
       "model_id": "",
       "version_major": 2,
       "version_minor": 0
      },
      "text/plain": [
       "HBox(children=(IntProgress(value=0, description='Epoch 27', max=30, style=ProgressStyle(description_width='ini…"
      ]
     },
     "metadata": {},
     "output_type": "display_data"
    },
    {
     "data": {
      "application/vnd.jupyter.widget-view+json": {
       "model_id": "",
       "version_major": 2,
       "version_minor": 0
      },
      "text/plain": [
       "HBox(children=(IntProgress(value=0, description='Epoch 28', max=30, style=ProgressStyle(description_width='ini…"
      ]
     },
     "metadata": {},
     "output_type": "display_data"
    },
    {
     "data": {
      "application/vnd.jupyter.widget-view+json": {
       "model_id": "",
       "version_major": 2,
       "version_minor": 0
      },
      "text/plain": [
       "HBox(children=(IntProgress(value=0, description='Epoch 29', max=30, style=ProgressStyle(description_width='ini…"
      ]
     },
     "metadata": {},
     "output_type": "display_data"
    },
    {
     "data": {
      "application/vnd.jupyter.widget-view+json": {
       "model_id": "",
       "version_major": 2,
       "version_minor": 0
      },
      "text/plain": [
       "HBox(children=(IntProgress(value=0, description='Epoch 30', max=30, style=ProgressStyle(description_width='ini…"
      ]
     },
     "metadata": {},
     "output_type": "display_data"
    },
    {
     "data": {
      "application/vnd.jupyter.widget-view+json": {
       "model_id": "",
       "version_major": 2,
       "version_minor": 0
      },
      "text/plain": [
       "HBox(children=(IntProgress(value=0, description='Epoch 31', max=30, style=ProgressStyle(description_width='ini…"
      ]
     },
     "metadata": {},
     "output_type": "display_data"
    },
    {
     "data": {
      "application/vnd.jupyter.widget-view+json": {
       "model_id": "",
       "version_major": 2,
       "version_minor": 0
      },
      "text/plain": [
       "HBox(children=(IntProgress(value=0, description='Epoch 32', max=30, style=ProgressStyle(description_width='ini…"
      ]
     },
     "metadata": {},
     "output_type": "display_data"
    },
    {
     "data": {
      "application/vnd.jupyter.widget-view+json": {
       "model_id": "",
       "version_major": 2,
       "version_minor": 0
      },
      "text/plain": [
       "HBox(children=(IntProgress(value=0, description='Epoch 33', max=30, style=ProgressStyle(description_width='ini…"
      ]
     },
     "metadata": {},
     "output_type": "display_data"
    },
    {
     "data": {
      "application/vnd.jupyter.widget-view+json": {
       "model_id": "",
       "version_major": 2,
       "version_minor": 0
      },
      "text/plain": [
       "HBox(children=(IntProgress(value=0, description='Epoch 34', max=30, style=ProgressStyle(description_width='ini…"
      ]
     },
     "metadata": {},
     "output_type": "display_data"
    },
    {
     "data": {
      "application/vnd.jupyter.widget-view+json": {
       "model_id": "",
       "version_major": 2,
       "version_minor": 0
      },
      "text/plain": [
       "HBox(children=(IntProgress(value=0, description='Epoch 35', max=30, style=ProgressStyle(description_width='ini…"
      ]
     },
     "metadata": {},
     "output_type": "display_data"
    },
    {
     "data": {
      "application/vnd.jupyter.widget-view+json": {
       "model_id": "",
       "version_major": 2,
       "version_minor": 0
      },
      "text/plain": [
       "HBox(children=(IntProgress(value=0, description='Epoch 36', max=30, style=ProgressStyle(description_width='ini…"
      ]
     },
     "metadata": {},
     "output_type": "display_data"
    },
    {
     "data": {
      "application/vnd.jupyter.widget-view+json": {
       "model_id": "",
       "version_major": 2,
       "version_minor": 0
      },
      "text/plain": [
       "HBox(children=(IntProgress(value=0, description='Epoch 37', max=30, style=ProgressStyle(description_width='ini…"
      ]
     },
     "metadata": {},
     "output_type": "display_data"
    },
    {
     "name": "stdout",
     "output_type": "stream",
     "text": [
      "\n",
      "time: 246.30467009544373\n",
      "accuracy: 0.8648648648648649 in sample_acc: 1.0 lags: 4  batch_size: 45 lstm_cells: 41 epochs: 200 steps: 30\n",
      "(36.36363636363637, 95.62043795620438, 91.21621621621621) AUC 0.6289814200398143\n",
      "threshold: 0.97555\n",
      "confusion matrix \n",
      " [[262  12]\n",
      " [ 14   8]]\n",
      "done\n"
     ]
    }
   ],
   "source": [
    "# define dataset\n",
    "dataset = X_train\n",
    "n_features = dataset.shape[1]\n",
    "\n",
    "total_samples =  dataset.shape[0]\n",
    "num_train_samples = int(0.75 * total_samples)\n",
    "\n",
    "print(\"Total samples: {} \\nNum train samples: {} \\nNum test samples: {}\".format(total_samples,num_train_samples,total_samples - num_train_samples ))\n",
    "print(\"Features: {}\".format(n_features))\n",
    "model = None\n",
    "\n",
    "\n",
    "for (lag,batch_size, lstm_cells, epochs, steps_per_epoch) in parameter_generator():\n",
    "\n",
    "    #output = Y_train.reshape(len(Y_train),1)\n",
    "\n",
    "    start_time = time.time()\n",
    "    \n",
    "    # model 0\n",
    "    #train_generator = TimeseriesGenerator(X_train, y_train, length=lag, batch_size=batch_size)\n",
    "    #test_generator = TimeseriesGenerator(X_test, y_test, length=lag, batch_size=1)\n",
    "\n",
    "    # model3\n",
    "    train_generator = TimeseriesGenerator(np.expand_dims(X_train, axis=2), y_train, length=lag, batch_size=batch_size)\n",
    "    test_generator = TimeseriesGenerator(np.expand_dims(X_test,axis=2), y_test, length=lag, batch_size=1)\n",
    "\n",
    "    # define model\n",
    "    model = get_model3(lstm_cells, lag, n_features, batch_size)\n",
    "    print(model.summary())\n",
    "    \n",
    "    # early stopping criteria\n",
    "    early_stopping_callback = EarlyStopping(monitor=\"acc\",patience=10)\n",
    "\n",
    "    # fit model\n",
    "    model.fit_generator(train_generator, steps_per_epoch=steps_per_epoch,epochs=epochs, verbose=0, \n",
    "                        callbacks=[early_stopping_callback, TQDMNotebookCallback()])\n",
    "\n",
    "\n",
    "    in_sample_acc = model.evaluate_generator(train_generator)[1]\n",
    "    acc = model.evaluate_generator(test_generator)[1]\n",
    "    \n",
    "    y_score = model.predict_generator(test_generator)\n",
    "    y_true = y_test[-len(y_score):]\n",
    "\n",
    "    fpr, tpr , thresholds = roc_curve(y_true, y_score)\n",
    "    threshold = thresholds[np.argmax(tpr - fpr)]\n",
    "\n",
    "    print(\"time:\", time.time() - start_time)\n",
    "    print(\"accuracy: {} in sample_acc: {} lags: {}  batch_size: {} lstm_cells: {} epochs: {} steps: {}\".format(acc, in_sample_acc, lag, batch_size, lstm_cells, epochs, steps_per_epoch))\n",
    "    print (calc_accuracy(model, test_generator, threshold), \"AUC\", roc_auc_score(y_true, y_score))\n",
    "    print('threshold:', threshold)\n",
    "    print (\"confusion matrix \\n\", confusion_matrix(y_true, [1 if p >= threshold else 0 for p in y_score]))\n",
    "    \n",
    "print (\"done\")"
   ]
  },
  {
   "cell_type": "code",
   "execution_count": null,
   "metadata": {},
   "outputs": [],
   "source": [
    "\n",
    "fpr, tpr , thresholds = roc_curve(y_true, y_score)\n",
    "t = thresholds[np.argmax(tpr - fpr)]\n",
    "print(t)\n",
    "print(confusion_matrix(y_true, [1 if p >= t else 0 for p in y_score]))\n",
    "print(confusion_matrix(y_true, [1 if p >= 0.5 else 0 for p in y_score]))\n",
    "plot_auc(y_true, y_score)\n",
    "\n"
   ]
  },
  {
   "cell_type": "code",
   "execution_count": 14,
   "metadata": {},
   "outputs": [],
   "source": [
    "def calc_accuracy(model, test_generator, threshold):\n",
    "\n",
    "    y_score = model.predict_generator(test_generator)\n",
    "\n",
    "    i = 0\n",
    "    correct1 = 0\n",
    "    total1 = 0\n",
    "    for x in test_generator:\n",
    "        p = y_score[i]\n",
    "        if (x[1]==1):\n",
    "            if p >= threshold:\n",
    "                correct1 += 1\n",
    "                #print(i,x[0].shape, x[1], p , \"*\")\n",
    "            #else:\n",
    "                #print(i,x[0].shape, x[1], p )\n",
    "            total1 += 1\n",
    "        i+=1\n",
    "\n",
    "\n",
    "    #print(correct1, total1)    \n",
    "    #print(\"Accuracy (1) {:6.2f}%\".format(100.0* correct1/total1))\n",
    "\n",
    "    i = 0\n",
    "    correct0 = 0\n",
    "    total0 = 0\n",
    "    for x in test_generator:\n",
    "        p = y_score[i]\n",
    "        if (x[1]==0):\n",
    "            if p < threshold:\n",
    "                correct0 += 1\n",
    "            total0 += 1\n",
    "        i+=1\n",
    "\n",
    "\n",
    "    #print(correct0, total0)    \n",
    "    #print(\"Accuracy (0) {:6.2f}%\".format(100.0* correct0/total0))\n",
    "\n",
    "    #print()\n",
    "    #print(\"Accuracy (0+1) {:6.2f}%\".format(100.0* (correct0+correct1)/(total0+total1)))\n",
    "    \n",
    "    return (100.0* correct1/total1, 100.0* correct0/total0, 100.0* (correct0+correct1)/(total0+total1))\n",
    "\n"
   ]
  },
  {
   "cell_type": "code",
   "execution_count": 15,
   "metadata": {},
   "outputs": [],
   "source": [
    "def plot_auc(y_true, y_score):\n",
    "    fpr_rf, tpr_rf, _ = roc_curve(y_true, y_score)\n",
    "\n",
    "    plt.figure(1)\n",
    "    plt.plot(fpr_rf, tpr_rf)\n",
    "    plt.show()"
   ]
  },
  {
   "cell_type": "markdown",
   "metadata": {},
   "source": [
    "# Using KNN"
   ]
  },
  {
   "cell_type": "code",
   "execution_count": null,
   "metadata": {},
   "outputs": [],
   "source": [
    "from sklearn.neighbors import KNeighborsClassifier\n",
    "\n",
    "knn = KNeighborsClassifier(n_neighbors=3)\n",
    "\n",
    "X = []\n",
    "y = []\n",
    "\n",
    "train_generator = TimeseriesGenerator(X_train, y_train, length=4, batch_size=1)\n",
    "for xy in train_generator:\n",
    "    n = xy[0].shape[1] * xy[0].shape[2]\n",
    "    X.append(xy[0].reshape(n))\n",
    "    y.append(xy[1][0])\n",
    "    \n",
    "knn.fit(X, y) \n",
    "\n",
    "Xt = []\n",
    "yt = []\n",
    "\n",
    "test_generator = TimeseriesGenerator(X_test, y_test, length=4, batch_size=1)\n",
    "for xy in test_generator:\n",
    "    n = xy[0].shape[1] * xy[0].shape[2]\n",
    "    Xt.append(xy[0].reshape(n))\n",
    "    yt.append(xy[1][0])\n",
    "    \n",
    "acc = knn.score(Xt, yt) \n",
    "auc = roc_auc_score(yt, knn.predict(Xt))\n",
    "\n",
    "print(\"Acc\", acc, \"AUC\", auc)"
   ]
  },
  {
   "cell_type": "code",
   "execution_count": null,
   "metadata": {},
   "outputs": [],
   "source": [
    "y_hat = knn.predict(Xt)\n",
    "[i for i in range(0, len(y_hat)) if y_hat[i] == 1 ]\n"
   ]
  },
  {
   "cell_type": "code",
   "execution_count": null,
   "metadata": {},
   "outputs": [],
   "source": [
    "[i for i in range(0, len(yt)) if yt[i] == 1 ]"
   ]
  },
  {
   "cell_type": "code",
   "execution_count": null,
   "metadata": {},
   "outputs": [],
   "source": [
    "a = [1,2,3,4,5,6]\n",
    "a[2:-1]\n"
   ]
  }
 ],
 "metadata": {
  "kernelspec": {
   "display_name": "Python 3",
   "language": "python",
   "name": "python3"
  },
  "language_info": {
   "codemirror_mode": {
    "name": "ipython",
    "version": 3
   },
   "file_extension": ".py",
   "mimetype": "text/x-python",
   "name": "python",
   "nbconvert_exporter": "python",
   "pygments_lexer": "ipython3",
   "version": "3.6.5"
  }
 },
 "nbformat": 4,
 "nbformat_minor": 2
}
